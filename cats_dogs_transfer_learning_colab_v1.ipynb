{
  "nbformat": 4,
  "nbformat_minor": 0,
  "metadata": {
    "kernelspec": {
      "display_name": "keras_tensorflow",
      "language": "python",
      "name": "keras_tensorflow"
    },
    "language_info": {
      "codemirror_mode": {
        "name": "ipython",
        "version": 3
      },
      "file_extension": ".py",
      "mimetype": "text/x-python",
      "name": "python",
      "nbconvert_exporter": "python",
      "pygments_lexer": "ipython3",
      "version": "3.7.4"
    },
    "colab": {
      "name": "cats_dogs_transfer_learning_v1.ipynb",
      "provenance": [],
      "collapsed_sections": []
    },
    "accelerator": "GPU"
  },
  "cells": [
    {
      "cell_type": "code",
      "metadata": {
        "id": "sUwI1vJqv7q3",
        "colab_type": "code",
        "colab": {}
      },
      "source": [
        "# Install all dependencies\n",
        "!pip install pandas numpy tensorflow==2.1.0rc0 sklearn jupyterlab matplotlib pillow packaging"
      ],
      "execution_count": 0,
      "outputs": []
    },
    {
      "cell_type": "code",
      "metadata": {
        "id": "LkKmkPbetUPb",
        "colab_type": "code",
        "colab": {
          "base_uri": "https://localhost:8080/",
          "height": 34
        },
        "outputId": "d21122d9-22e4-434e-c4c3-98a85fb57b79"
      },
      "source": [
        "from __future__ import absolute_import, division, print_function, unicode_literals\n",
        "\n",
        "# TensorFlow and tf.keras\n",
        "import tensorflow as tf\n",
        "from tensorflow import keras\n",
        "\n",
        "# Helper libraries\n",
        "import numpy as np\n",
        "import matplotlib.pyplot as plt\n",
        "\n",
        "print(tf.__version__)"
      ],
      "execution_count": 1,
      "outputs": [
        {
          "output_type": "stream",
          "text": [
            "2.1.0-rc0\n"
          ],
          "name": "stdout"
        }
      ]
    },
    {
      "cell_type": "code",
      "metadata": {
        "id": "GRhiDdhy2Aws",
        "colab_type": "code",
        "colab": {
          "base_uri": "https://localhost:8080/",
          "height": 34
        },
        "outputId": "c4d7d637-3930-4b2f-8873-634ef778c481"
      },
      "source": [
        "device_name = tf.test.gpu_device_name()\n",
        "if device_name != '/device:GPU:0':\n",
        "  raise SystemError('GPU device not found')\n",
        "print('Found GPU at: {}'.format(device_name))"
      ],
      "execution_count": 2,
      "outputs": [
        {
          "output_type": "stream",
          "text": [
            "Found GPU at: /device:GPU:0\n"
          ],
          "name": "stdout"
        }
      ]
    },
    {
      "cell_type": "code",
      "metadata": {
        "id": "FQCZGq4rwm2d",
        "colab_type": "code",
        "colab": {
          "base_uri": "https://localhost:8080/",
          "height": 122
        },
        "outputId": "1deb5764-7687-46f7-f31e-685b19718279"
      },
      "source": [
        "from google.colab import drive\n",
        "drive.mount('/content/drive')"
      ],
      "execution_count": 3,
      "outputs": [
        {
          "output_type": "stream",
          "text": [
            "Go to this URL in a browser: https://accounts.google.com/o/oauth2/auth?client_id=947318989803-6bn6qk8qdgf4n4g3pfee6491hc0brc4i.apps.googleusercontent.com&redirect_uri=urn%3aietf%3awg%3aoauth%3a2.0%3aoob&response_type=code&scope=email%20https%3a%2f%2fwww.googleapis.com%2fauth%2fdocs.test%20https%3a%2f%2fwww.googleapis.com%2fauth%2fdrive%20https%3a%2f%2fwww.googleapis.com%2fauth%2fdrive.photos.readonly%20https%3a%2f%2fwww.googleapis.com%2fauth%2fpeopleapi.readonly\n",
            "\n",
            "Enter your authorization code:\n",
            "··········\n",
            "Mounted at /content/drive\n"
          ],
          "name": "stdout"
        }
      ]
    },
    {
      "cell_type": "code",
      "metadata": {
        "id": "DWAD02k4yiti",
        "colab_type": "code",
        "colab": {
          "base_uri": "https://localhost:8080/",
          "height": 34
        },
        "outputId": "10f7ed5e-1fb2-4c0e-93b1-84fdac10e465"
      },
      "source": [
        "!ls drive/My\\ Drive/Colab\\ Notebooks/data_tmp/dogs-vs-cats-small"
      ],
      "execution_count": 4,
      "outputs": [
        {
          "output_type": "stream",
          "text": [
            "test  train  valid\n"
          ],
          "name": "stdout"
        }
      ]
    },
    {
      "cell_type": "code",
      "metadata": {
        "id": "ct7s_avYxNbX",
        "colab_type": "code",
        "colab": {}
      },
      "source": [
        "path_dir = \"drive/My Drive/Colab Notebooks/data_tmp/dogs-vs-cats-small\""
      ],
      "execution_count": 0,
      "outputs": []
    },
    {
      "cell_type": "markdown",
      "metadata": {
        "id": "L-Tb3zQ0tUPj",
        "colab_type": "text"
      },
      "source": [
        "## Building the model"
      ]
    },
    {
      "cell_type": "markdown",
      "metadata": {
        "id": "FaeWjNBatUPl",
        "colab_type": "text"
      },
      "source": [
        "Combining the Vgg16 model with a single dense layer to train the model for this specific task"
      ]
    },
    {
      "cell_type": "code",
      "metadata": {
        "id": "RPaLBJTwtUPm",
        "colab_type": "code",
        "colab": {
          "base_uri": "https://localhost:8080/",
          "height": 71
        },
        "outputId": "377c5de8-e4e6-477f-d393-5c2c0ad18e2c"
      },
      "source": [
        "model_base = tf.keras.applications.vgg16.VGG16(\n",
        "    weights = 'imagenet',\n",
        "    include_top = False, # whether the densly connected layers also should be included\n",
        "    input_shape = (150, 150, 3) # this actually doesn't need to be passed\n",
        ")"
      ],
      "execution_count": 6,
      "outputs": [
        {
          "output_type": "stream",
          "text": [
            "Downloading data from https://github.com/fchollet/deep-learning-models/releases/download/v0.1/vgg16_weights_tf_dim_ordering_tf_kernels_notop.h5\n",
            "58892288/58889256 [==============================] - 2s 0us/step\n"
          ],
          "name": "stdout"
        }
      ]
    },
    {
      "cell_type": "code",
      "metadata": {
        "id": "iwf5YIAltUPs",
        "colab_type": "code",
        "colab": {
          "base_uri": "https://localhost:8080/",
          "height": 799
        },
        "outputId": "1de94f9d-ecda-440c-ea7e-32f3a866fde8"
      },
      "source": [
        "model_base.summary()"
      ],
      "execution_count": 7,
      "outputs": [
        {
          "output_type": "stream",
          "text": [
            "Model: \"vgg16\"\n",
            "_________________________________________________________________\n",
            "Layer (type)                 Output Shape              Param #   \n",
            "=================================================================\n",
            "input_1 (InputLayer)         [(None, 150, 150, 3)]     0         \n",
            "_________________________________________________________________\n",
            "block1_conv1 (Conv2D)        (None, 150, 150, 64)      1792      \n",
            "_________________________________________________________________\n",
            "block1_conv2 (Conv2D)        (None, 150, 150, 64)      36928     \n",
            "_________________________________________________________________\n",
            "block1_pool (MaxPooling2D)   (None, 75, 75, 64)        0         \n",
            "_________________________________________________________________\n",
            "block2_conv1 (Conv2D)        (None, 75, 75, 128)       73856     \n",
            "_________________________________________________________________\n",
            "block2_conv2 (Conv2D)        (None, 75, 75, 128)       147584    \n",
            "_________________________________________________________________\n",
            "block2_pool (MaxPooling2D)   (None, 37, 37, 128)       0         \n",
            "_________________________________________________________________\n",
            "block3_conv1 (Conv2D)        (None, 37, 37, 256)       295168    \n",
            "_________________________________________________________________\n",
            "block3_conv2 (Conv2D)        (None, 37, 37, 256)       590080    \n",
            "_________________________________________________________________\n",
            "block3_conv3 (Conv2D)        (None, 37, 37, 256)       590080    \n",
            "_________________________________________________________________\n",
            "block3_pool (MaxPooling2D)   (None, 18, 18, 256)       0         \n",
            "_________________________________________________________________\n",
            "block4_conv1 (Conv2D)        (None, 18, 18, 512)       1180160   \n",
            "_________________________________________________________________\n",
            "block4_conv2 (Conv2D)        (None, 18, 18, 512)       2359808   \n",
            "_________________________________________________________________\n",
            "block4_conv3 (Conv2D)        (None, 18, 18, 512)       2359808   \n",
            "_________________________________________________________________\n",
            "block4_pool (MaxPooling2D)   (None, 9, 9, 512)         0         \n",
            "_________________________________________________________________\n",
            "block5_conv1 (Conv2D)        (None, 9, 9, 512)         2359808   \n",
            "_________________________________________________________________\n",
            "block5_conv2 (Conv2D)        (None, 9, 9, 512)         2359808   \n",
            "_________________________________________________________________\n",
            "block5_conv3 (Conv2D)        (None, 9, 9, 512)         2359808   \n",
            "_________________________________________________________________\n",
            "block5_pool (MaxPooling2D)   (None, 4, 4, 512)         0         \n",
            "=================================================================\n",
            "Total params: 14,714,688\n",
            "Trainable params: 14,714,688\n",
            "Non-trainable params: 0\n",
            "_________________________________________________________________\n"
          ],
          "name": "stdout"
        }
      ]
    },
    {
      "cell_type": "code",
      "metadata": {
        "id": "GcGYCQyktUPz",
        "colab_type": "code",
        "colab": {}
      },
      "source": [
        "model = keras.Sequential([\n",
        "    model_base,\n",
        "    keras.layers.Flatten(),\n",
        "    keras.layers.Dense(256, activation = 'relu'),    \n",
        "    keras.layers.Dense(1, activation = 'sigmoid')\n",
        "])"
      ],
      "execution_count": 0,
      "outputs": []
    },
    {
      "cell_type": "code",
      "metadata": {
        "id": "FwgVcXfotUP4",
        "colab_type": "code",
        "colab": {}
      },
      "source": [
        "# Setting all Vgg16 layers as non-trainable\n",
        "for layer in model_base.layers:\n",
        "    layer.trainable = False"
      ],
      "execution_count": 0,
      "outputs": []
    },
    {
      "cell_type": "code",
      "metadata": {
        "id": "Di3D_qmRtUP-",
        "colab_type": "code",
        "colab": {
          "base_uri": "https://localhost:8080/",
          "height": 289
        },
        "outputId": "78ebe372-55f4-4702-c095-832ecdba329e"
      },
      "source": [
        "model.summary()"
      ],
      "execution_count": 10,
      "outputs": [
        {
          "output_type": "stream",
          "text": [
            "Model: \"sequential\"\n",
            "_________________________________________________________________\n",
            "Layer (type)                 Output Shape              Param #   \n",
            "=================================================================\n",
            "vgg16 (Model)                (None, 4, 4, 512)         14714688  \n",
            "_________________________________________________________________\n",
            "flatten (Flatten)            (None, 8192)              0         \n",
            "_________________________________________________________________\n",
            "dense (Dense)                (None, 256)               2097408   \n",
            "_________________________________________________________________\n",
            "dense_1 (Dense)              (None, 1)                 257       \n",
            "=================================================================\n",
            "Total params: 16,812,353\n",
            "Trainable params: 2,097,665\n",
            "Non-trainable params: 14,714,688\n",
            "_________________________________________________________________\n"
          ],
          "name": "stdout"
        }
      ]
    },
    {
      "cell_type": "code",
      "metadata": {
        "id": "5wmPwYPvtUQD",
        "colab_type": "code",
        "colab": {}
      },
      "source": [
        "model.compile(\n",
        "    optimizer = tf.keras.optimizers.RMSprop(learning_rate = 2e-5),\n",
        "    loss = 'binary_crossentropy',\n",
        "    metrics = ['accuracy']\n",
        ")"
      ],
      "execution_count": 0,
      "outputs": []
    },
    {
      "cell_type": "code",
      "metadata": {
        "id": "io0JZrD-tUQK",
        "colab_type": "code",
        "colab": {
          "base_uri": "https://localhost:8080/",
          "height": 289
        },
        "outputId": "ed770255-f4b3-41ad-e372-1c554d14671e"
      },
      "source": [
        "model.summary()"
      ],
      "execution_count": 12,
      "outputs": [
        {
          "output_type": "stream",
          "text": [
            "Model: \"sequential\"\n",
            "_________________________________________________________________\n",
            "Layer (type)                 Output Shape              Param #   \n",
            "=================================================================\n",
            "vgg16 (Model)                (None, 4, 4, 512)         14714688  \n",
            "_________________________________________________________________\n",
            "flatten (Flatten)            (None, 8192)              0         \n",
            "_________________________________________________________________\n",
            "dense (Dense)                (None, 256)               2097408   \n",
            "_________________________________________________________________\n",
            "dense_1 (Dense)              (None, 1)                 257       \n",
            "=================================================================\n",
            "Total params: 16,812,353\n",
            "Trainable params: 2,097,665\n",
            "Non-trainable params: 14,714,688\n",
            "_________________________________________________________________\n"
          ],
          "name": "stdout"
        }
      ]
    },
    {
      "cell_type": "markdown",
      "metadata": {
        "id": "oVdJJDUNtUQR",
        "colab_type": "text"
      },
      "source": [
        "## Data preprocessing"
      ]
    },
    {
      "cell_type": "markdown",
      "metadata": {
        "id": "fCVtTxf3tUQT",
        "colab_type": "text"
      },
      "source": [
        "We're gonna use the data image generator to read data batches one by one from disck instead of loading them all into memory at once, with some data augmentation techniques to prevent ovefitting."
      ]
    },
    {
      "cell_type": "code",
      "metadata": {
        "id": "sJqvFAc3tUQW",
        "colab_type": "code",
        "colab": {}
      },
      "source": [
        "train_datagen = tf.keras.preprocessing.image.ImageDataGenerator(\n",
        "    rescale = 1. / 255, \n",
        "    rotation_range = 40, # rotating the image randomly by a number of degrees to each of the side\n",
        "    width_shift_range = 0.2, # sliding the image as a fraction of its width or height\n",
        "    height_shift_range = 0.2, \n",
        "    shear_range = 0.2, # changing the angle of the image (shearing)\n",
        "    zoom_range = 0.2, # slightly zooming inside the image\n",
        "    horizontal_flip = True, # possible when there is no assumption of horizontal asymmetry\n",
        "    fill_mode = 'nearest' # the strategy of how newly created pixels will be filled e.g. after width/ height shift\n",
        ")\n",
        "\n",
        "valid_datagen = tf.keras.preprocessing.image.ImageDataGenerator(rescale = 1. / 255)"
      ],
      "execution_count": 0,
      "outputs": []
    },
    {
      "cell_type": "code",
      "metadata": {
        "id": "N6ARDKsatUQc",
        "colab_type": "code",
        "colab": {
          "base_uri": "https://localhost:8080/",
          "height": 51
        },
        "outputId": "cb39fb5e-75f4-4e3a-e7e1-837219d652a1"
      },
      "source": [
        "train_dir = path_dir + '/train'\n",
        "valid_dir = path_dir + '/valid'\n",
        "\n",
        "train_generator = train_datagen.flow_from_directory(\n",
        "        train_dir,\n",
        "        target_size = (150, 150),\n",
        "        batch_size = 20,\n",
        "        class_mode = 'binary'\n",
        ")\n",
        "\n",
        "valid_generator = train_datagen.flow_from_directory(\n",
        "        valid_dir,\n",
        "        target_size = (150, 150),\n",
        "        batch_size = 20,\n",
        "        class_mode = 'binary'\n",
        ")"
      ],
      "execution_count": 14,
      "outputs": [
        {
          "output_type": "stream",
          "text": [
            "Found 1999 images belonging to 2 classes.\n",
            "Found 998 images belonging to 2 classes.\n"
          ],
          "name": "stdout"
        }
      ]
    },
    {
      "cell_type": "markdown",
      "metadata": {
        "id": "QBloCEpRtUQf",
        "colab_type": "text"
      },
      "source": [
        "## Fitting the model"
      ]
    },
    {
      "cell_type": "code",
      "metadata": {
        "id": "vyyfecjxtUQg",
        "colab_type": "code",
        "colab": {
          "base_uri": "https://localhost:8080/",
          "height": 1000
        },
        "outputId": "82b895c4-7c0f-4bd2-b14e-9befd3a3ae93"
      },
      "source": [
        "model.fit_generator(\n",
        "    train_generator, \n",
        "    steps_per_epoch = 100, # 2000 samples, 20 per batches = 100 steps per each epoch\n",
        "    epochs = 30,\n",
        "    validation_data = valid_generator,\n",
        "    validation_steps = 50 # 1000 samples, 20 per batch = 50 steps per each epoch\n",
        ")"
      ],
      "execution_count": 15,
      "outputs": [
        {
          "output_type": "stream",
          "text": [
            "WARNING:tensorflow:From <ipython-input-15-79f355519c5f>:6: Model.fit_generator (from tensorflow.python.keras.engine.training) is deprecated and will be removed in a future version.\n",
            "Instructions for updating:\n",
            "Please use Model.fit, which supports generators.\n",
            "WARNING:tensorflow:sample_weight modes were coerced from\n",
            "  ...\n",
            "    to  \n",
            "  ['...']\n",
            "WARNING:tensorflow:sample_weight modes were coerced from\n",
            "  ...\n",
            "    to  \n",
            "  ['...']\n",
            "Train for 100 steps, validate for 50 steps\n",
            "Epoch 1/30\n",
            "100/100 [==============================] - 851s 9s/step - loss: 0.6068 - accuracy: 0.6758 - val_loss: 0.5186 - val_accuracy: 0.7645\n",
            "Epoch 2/30\n",
            "100/100 [==============================] - 24s 245ms/step - loss: 0.4853 - accuracy: 0.7919 - val_loss: 0.4573 - val_accuracy: 0.7976\n",
            "Epoch 3/30\n",
            "100/100 [==============================] - 24s 242ms/step - loss: 0.4318 - accuracy: 0.8044 - val_loss: 0.4110 - val_accuracy: 0.8096\n",
            "Epoch 4/30\n",
            "100/100 [==============================] - 25s 248ms/step - loss: 0.3987 - accuracy: 0.8199 - val_loss: 0.3925 - val_accuracy: 0.8246\n",
            "Epoch 5/30\n",
            "100/100 [==============================] - 25s 247ms/step - loss: 0.3753 - accuracy: 0.8329 - val_loss: 0.3916 - val_accuracy: 0.8327\n",
            "Epoch 6/30\n",
            "100/100 [==============================] - 25s 245ms/step - loss: 0.3633 - accuracy: 0.8354 - val_loss: 0.3513 - val_accuracy: 0.8507\n",
            "Epoch 7/30\n",
            "100/100 [==============================] - 24s 244ms/step - loss: 0.3507 - accuracy: 0.8429 - val_loss: 0.3541 - val_accuracy: 0.8457\n",
            "Epoch 8/30\n",
            "100/100 [==============================] - 25s 248ms/step - loss: 0.3418 - accuracy: 0.8484 - val_loss: 0.3513 - val_accuracy: 0.8537\n",
            "Epoch 9/30\n",
            "100/100 [==============================] - 24s 245ms/step - loss: 0.3447 - accuracy: 0.8489 - val_loss: 0.3561 - val_accuracy: 0.8377\n",
            "Epoch 10/30\n",
            "100/100 [==============================] - 24s 245ms/step - loss: 0.3384 - accuracy: 0.8519 - val_loss: 0.3528 - val_accuracy: 0.8527\n",
            "Epoch 11/30\n",
            "100/100 [==============================] - 25s 247ms/step - loss: 0.3266 - accuracy: 0.8649 - val_loss: 0.3471 - val_accuracy: 0.8507\n",
            "Epoch 12/30\n",
            "100/100 [==============================] - 25s 245ms/step - loss: 0.3348 - accuracy: 0.8549 - val_loss: 0.3418 - val_accuracy: 0.8367\n",
            "Epoch 13/30\n",
            "100/100 [==============================] - 25s 245ms/step - loss: 0.3148 - accuracy: 0.8674 - val_loss: 0.3413 - val_accuracy: 0.8367\n",
            "Epoch 14/30\n",
            "100/100 [==============================] - 25s 246ms/step - loss: 0.3371 - accuracy: 0.8504 - val_loss: 0.3472 - val_accuracy: 0.8497\n",
            "Epoch 15/30\n",
            "100/100 [==============================] - 24s 244ms/step - loss: 0.3236 - accuracy: 0.8529 - val_loss: 0.3349 - val_accuracy: 0.8597\n",
            "Epoch 16/30\n",
            "100/100 [==============================] - 25s 245ms/step - loss: 0.3106 - accuracy: 0.8674 - val_loss: 0.3459 - val_accuracy: 0.8417\n",
            "Epoch 17/30\n",
            "100/100 [==============================] - 25s 245ms/step - loss: 0.3065 - accuracy: 0.8709 - val_loss: 0.3613 - val_accuracy: 0.8287\n",
            "Epoch 18/30\n",
            "100/100 [==============================] - 24s 243ms/step - loss: 0.3084 - accuracy: 0.8674 - val_loss: 0.3229 - val_accuracy: 0.8637\n",
            "Epoch 19/30\n",
            "100/100 [==============================] - 24s 243ms/step - loss: 0.3037 - accuracy: 0.8769 - val_loss: 0.3348 - val_accuracy: 0.8497\n",
            "Epoch 20/30\n",
            "100/100 [==============================] - 25s 248ms/step - loss: 0.2977 - accuracy: 0.8749 - val_loss: 0.3104 - val_accuracy: 0.8737\n",
            "Epoch 21/30\n",
            "100/100 [==============================] - 25s 248ms/step - loss: 0.2935 - accuracy: 0.8714 - val_loss: 0.3193 - val_accuracy: 0.8597\n",
            "Epoch 22/30\n",
            "100/100 [==============================] - 24s 243ms/step - loss: 0.2935 - accuracy: 0.8734 - val_loss: 0.3388 - val_accuracy: 0.8537\n",
            "Epoch 23/30\n",
            "100/100 [==============================] - 25s 245ms/step - loss: 0.2783 - accuracy: 0.8794 - val_loss: 0.3391 - val_accuracy: 0.8517\n",
            "Epoch 24/30\n",
            "100/100 [==============================] - 24s 244ms/step - loss: 0.2984 - accuracy: 0.8619 - val_loss: 0.3279 - val_accuracy: 0.8737\n",
            "Epoch 25/30\n",
            "100/100 [==============================] - 24s 243ms/step - loss: 0.2944 - accuracy: 0.8704 - val_loss: 0.3036 - val_accuracy: 0.8667\n",
            "Epoch 26/30\n",
            "100/100 [==============================] - 25s 246ms/step - loss: 0.2867 - accuracy: 0.8784 - val_loss: 0.3539 - val_accuracy: 0.8417\n",
            "Epoch 27/30\n",
            "100/100 [==============================] - 24s 243ms/step - loss: 0.2856 - accuracy: 0.8709 - val_loss: 0.3271 - val_accuracy: 0.8597\n",
            "Epoch 28/30\n",
            "100/100 [==============================] - 24s 243ms/step - loss: 0.2831 - accuracy: 0.8789 - val_loss: 0.3462 - val_accuracy: 0.8487\n",
            "Epoch 29/30\n",
            "100/100 [==============================] - 24s 243ms/step - loss: 0.3031 - accuracy: 0.8669 - val_loss: 0.3342 - val_accuracy: 0.8637\n",
            "Epoch 30/30\n",
            "100/100 [==============================] - 25s 246ms/step - loss: 0.2750 - accuracy: 0.8869 - val_loss: 0.3177 - val_accuracy: 0.8607\n"
          ],
          "name": "stdout"
        },
        {
          "output_type": "execute_result",
          "data": {
            "text/plain": [
              "<tensorflow.python.keras.callbacks.History at 0x7fa3132d8b38>"
            ]
          },
          "metadata": {
            "tags": []
          },
          "execution_count": 15
        }
      ]
    },
    {
      "cell_type": "code",
      "metadata": {
        "id": "gxramSGWtUQm",
        "colab_type": "code",
        "colab": {
          "base_uri": "https://localhost:8080/",
          "height": 105
        },
        "outputId": "fcd686ee-5853-436c-9c1b-2d3fbd56b423"
      },
      "source": [
        "# Saving the trained model\n",
        "model.save('drive/My Drive/Colab Notebooks/data_tmp/model_cats_transfer_learning_v1', save_format = 'tf')"
      ],
      "execution_count": 16,
      "outputs": [
        {
          "output_type": "stream",
          "text": [
            "WARNING:tensorflow:From /usr/local/lib/python3.6/dist-packages/tensorflow_core/python/ops/resource_variable_ops.py:1786: calling BaseResourceVariable.__init__ (from tensorflow.python.ops.resource_variable_ops) with constraint is deprecated and will be removed in a future version.\n",
            "Instructions for updating:\n",
            "If using Keras pass *_constraint arguments to layers.\n",
            "INFO:tensorflow:Assets written to: drive/My Drive/Colab Notebooks/data_tmp/model_cats_transfer_learning_v1/assets\n"
          ],
          "name": "stdout"
        }
      ]
    },
    {
      "cell_type": "markdown",
      "metadata": {
        "id": "afwqLHO4tUQp",
        "colab_type": "text"
      },
      "source": [
        "## Evaluate the model"
      ]
    },
    {
      "cell_type": "code",
      "metadata": {
        "id": "xLCMQLbLtUQq",
        "colab_type": "code",
        "colab": {}
      },
      "source": [
        "test_loss, test_acc = model.evaluate(test_images, test_labels, verbose = 2)\n",
        "\n",
        "print('\\nTest accuracy:', test_acc)"
      ],
      "execution_count": 0,
      "outputs": []
    },
    {
      "cell_type": "markdown",
      "metadata": {
        "id": "j2FVlJ9atUQv",
        "colab_type": "text"
      },
      "source": [
        "## Making predictions"
      ]
    },
    {
      "cell_type": "code",
      "metadata": {
        "id": "-kfPTlFftUQv",
        "colab_type": "code",
        "colab": {}
      },
      "source": [
        "predictions = model.predict(test_images)"
      ],
      "execution_count": 0,
      "outputs": []
    },
    {
      "cell_type": "code",
      "metadata": {
        "id": "6TQh36ERtUQ2",
        "colab_type": "code",
        "colab": {},
        "outputId": "12b84f64-b827-4b08-bf6a-c65bea6dbb82"
      },
      "source": [
        "predictions[0]"
      ],
      "execution_count": 0,
      "outputs": [
        {
          "output_type": "execute_result",
          "data": {
            "text/plain": [
              "array([6.4292335e-22, 1.6219846e-22, 3.8224264e-22, 2.2197426e-20,\n",
              "       1.6082298e-26, 4.0185693e-12, 2.1265178e-23, 2.1613789e-11,\n",
              "       4.5142590e-21, 1.0000000e+00], dtype=float32)"
            ]
          },
          "metadata": {
            "tags": []
          },
          "execution_count": 14
        }
      ]
    },
    {
      "cell_type": "code",
      "metadata": {
        "id": "UO3cXKGHtUQ6",
        "colab_type": "code",
        "colab": {},
        "outputId": "828dc70a-f3ac-403f-f5ef-d32fb8065e78"
      },
      "source": [
        "np.argmax(predictions[0])"
      ],
      "execution_count": 0,
      "outputs": [
        {
          "output_type": "execute_result",
          "data": {
            "text/plain": [
              "9"
            ]
          },
          "metadata": {
            "tags": []
          },
          "execution_count": 22
        }
      ]
    }
  ]
}