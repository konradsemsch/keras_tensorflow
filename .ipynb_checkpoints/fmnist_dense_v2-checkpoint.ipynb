{
 "cells": [
  {
   "cell_type": "code",
   "execution_count": 17,
   "metadata": {},
   "outputs": [
    {
     "name": "stdout",
     "output_type": "stream",
     "text": [
      "2.0.0\n"
     ]
    }
   ],
   "source": [
    "from __future__ import absolute_import, division, print_function, unicode_literals\n",
    "\n",
    "# TensorFlow and tf.keras\n",
    "import tensorflow as tf\n",
    "from tensorflow import keras\n",
    "\n",
    "# Helper libraries\n",
    "import numpy as np\n",
    "import matplotlib.pyplot as plt\n",
    "\n",
    "print(tf.__version__)"
   ]
  },
  {
   "cell_type": "markdown",
   "metadata": {},
   "source": [
    "## Downloading data"
   ]
  },
  {
   "cell_type": "code",
   "execution_count": 18,
   "metadata": {},
   "outputs": [],
   "source": [
    "# Importing the data from keras\n",
    "fashion_mnist = keras.datasets.fashion_mnist\n",
    "\n",
    "(train_images, train_labels), (test_images, test_labels) = fashion_mnist.load_data()"
   ]
  },
  {
   "cell_type": "code",
   "execution_count": 19,
   "metadata": {},
   "outputs": [],
   "source": [
    "train_images = train_images / 255.0\n",
    "test_images = test_images / 255.0"
   ]
  },
  {
   "cell_type": "markdown",
   "metadata": {},
   "source": [
    "## Building the model"
   ]
  },
  {
   "cell_type": "markdown",
   "metadata": {},
   "source": [
    "Trying with two layers of a capacity of 128 units each, as well as a dropout layer in between"
   ]
  },
  {
   "cell_type": "code",
   "execution_count": 20,
   "metadata": {},
   "outputs": [],
   "source": [
    "model = keras.Sequential([\n",
    "    keras.layers.Flatten(input_shape = (28, 28)), # the first layer of the Sequential models always needs to get the input_shape\n",
    "    keras.layers.Dense(128, activation = 'relu'),\n",
    "    keras.layers.Dropout(0.25),\n",
    "    keras.layers.Dense(128, activation = 'relu'),\n",
    "    keras.layers.Dense(10, activation = 'softmax')\n",
    "])"
   ]
  },
  {
   "cell_type": "code",
   "execution_count": 21,
   "metadata": {},
   "outputs": [],
   "source": [
    "model.compile(\n",
    "    optimizer = 'adam',\n",
    "    loss = 'sparse_categorical_crossentropy',\n",
    "    metrics = ['accuracy']\n",
    ")"
   ]
  },
  {
   "cell_type": "code",
   "execution_count": 22,
   "metadata": {},
   "outputs": [
    {
     "name": "stdout",
     "output_type": "stream",
     "text": [
      "Model: \"sequential_3\"\n",
      "_________________________________________________________________\n",
      "Layer (type)                 Output Shape              Param #   \n",
      "=================================================================\n",
      "flatten_3 (Flatten)          (None, 784)               0         \n",
      "_________________________________________________________________\n",
      "dense_9 (Dense)              (None, 128)               100480    \n",
      "_________________________________________________________________\n",
      "dropout_3 (Dropout)          (None, 128)               0         \n",
      "_________________________________________________________________\n",
      "dense_10 (Dense)             (None, 128)               16512     \n",
      "_________________________________________________________________\n",
      "dense_11 (Dense)             (None, 10)                1290      \n",
      "=================================================================\n",
      "Total params: 118,282\n",
      "Trainable params: 118,282\n",
      "Non-trainable params: 0\n",
      "_________________________________________________________________\n"
     ]
    }
   ],
   "source": [
    "model.summary()"
   ]
  },
  {
   "cell_type": "code",
   "execution_count": 23,
   "metadata": {},
   "outputs": [
    {
     "name": "stdout",
     "output_type": "stream",
     "text": [
      "Train on 60000 samples\n",
      "Epoch 1/20\n",
      "60000/60000 [==============================] - 6s 107us/sample - loss: 0.5514 - accuracy: 0.8010\n",
      "Epoch 2/20\n",
      "60000/60000 [==============================] - 5s 89us/sample - loss: 0.4166 - accuracy: 0.8485\n",
      "Epoch 3/20\n",
      "60000/60000 [==============================] - 5s 90us/sample - loss: 0.3827 - accuracy: 0.8596\n",
      "Epoch 4/20\n",
      "60000/60000 [==============================] - 5s 88us/sample - loss: 0.3624 - accuracy: 0.8651\n",
      "Epoch 5/20\n",
      "60000/60000 [==============================] - 5s 89us/sample - loss: 0.3486 - accuracy: 0.8702\n",
      "Epoch 6/20\n",
      "60000/60000 [==============================] - 5s 90us/sample - loss: 0.3341 - accuracy: 0.8764\n",
      "Epoch 7/20\n",
      "60000/60000 [==============================] - 6s 92us/sample - loss: 0.3264 - accuracy: 0.8802\n",
      "Epoch 8/20\n",
      "60000/60000 [==============================] - 6s 105us/sample - loss: 0.3149 - accuracy: 0.8818\n",
      "Epoch 9/20\n",
      "60000/60000 [==============================] - 10s 161us/sample - loss: 0.3097 - accuracy: 0.8843\n",
      "Epoch 10/20\n",
      "60000/60000 [==============================] - 6s 94us/sample - loss: 0.3044 - accuracy: 0.8858\n",
      "Epoch 11/20\n",
      "60000/60000 [==============================] - 6s 93us/sample - loss: 0.2941 - accuracy: 0.8901\n",
      "Epoch 12/20\n",
      "60000/60000 [==============================] - 7s 111us/sample - loss: 0.2902 - accuracy: 0.8917\n",
      "Epoch 13/20\n",
      "60000/60000 [==============================] - 5s 76us/sample - loss: 0.2868 - accuracy: 0.8939\n",
      "Epoch 14/20\n",
      "60000/60000 [==============================] - 4s 73us/sample - loss: 0.2819 - accuracy: 0.8935\n",
      "Epoch 15/20\n",
      "60000/60000 [==============================] - 4s 74us/sample - loss: 0.2766 - accuracy: 0.8956\n",
      "Epoch 16/20\n",
      "60000/60000 [==============================] - 5s 82us/sample - loss: 0.2743 - accuracy: 0.8964\n",
      "Epoch 17/20\n",
      "60000/60000 [==============================] - 5s 82us/sample - loss: 0.2690 - accuracy: 0.8971\n",
      "Epoch 18/20\n",
      "60000/60000 [==============================] - 5s 84us/sample - loss: 0.2665 - accuracy: 0.9004\n",
      "Epoch 19/20\n",
      "60000/60000 [==============================] - 6s 92us/sample - loss: 0.2633 - accuracy: 0.9010s\n",
      "Epoch 20/20\n",
      "60000/60000 [==============================] - 6s 106us/sample - loss: 0.2632 - accuracy: 0.9007\n"
     ]
    },
    {
     "data": {
      "text/plain": [
       "<tensorflow.python.keras.callbacks.History at 0x13a36ed90>"
      ]
     },
     "execution_count": 23,
     "metadata": {},
     "output_type": "execute_result"
    }
   ],
   "source": [
    "model.fit(train_images, train_labels, batch_size = 32, epochs = 20)"
   ]
  },
  {
   "cell_type": "markdown",
   "metadata": {},
   "source": [
    "## Evaluate the model"
   ]
  },
  {
   "cell_type": "code",
   "execution_count": 24,
   "metadata": {},
   "outputs": [
    {
     "name": "stdout",
     "output_type": "stream",
     "text": [
      "10000/1 - 1s - loss: 0.2259 - accuracy: 0.8867\n",
      "\n",
      "Test accuracy: 0.8867\n"
     ]
    }
   ],
   "source": [
    "test_loss, test_acc = model.evaluate(test_images, test_labels, verbose = 2)\n",
    "\n",
    "print('\\nTest accuracy:', test_acc)"
   ]
  },
  {
   "cell_type": "markdown",
   "metadata": {},
   "source": [
    "## Making predictions"
   ]
  },
  {
   "cell_type": "code",
   "execution_count": 25,
   "metadata": {},
   "outputs": [],
   "source": [
    "predictions = model.predict(test_images)"
   ]
  },
  {
   "cell_type": "code",
   "execution_count": 26,
   "metadata": {},
   "outputs": [
    {
     "data": {
      "text/plain": [
       "array([5.4785811e-08, 6.6008374e-07, 1.2370752e-08, 8.7545721e-10,\n",
       "       4.0542778e-09, 6.0920347e-03, 9.6411163e-09, 2.5039958e-03,\n",
       "       1.2003982e-09, 9.9140328e-01], dtype=float32)"
      ]
     },
     "execution_count": 26,
     "metadata": {},
     "output_type": "execute_result"
    }
   ],
   "source": [
    "predictions[0]"
   ]
  },
  {
   "cell_type": "code",
   "execution_count": 27,
   "metadata": {},
   "outputs": [
    {
     "data": {
      "text/plain": [
       "9"
      ]
     },
     "execution_count": 27,
     "metadata": {},
     "output_type": "execute_result"
    }
   ],
   "source": [
    "np.argmax(predictions[0])"
   ]
  },
  {
   "cell_type": "code",
   "execution_count": null,
   "metadata": {},
   "outputs": [],
   "source": []
  }
 ],
 "metadata": {
  "kernelspec": {
   "display_name": "keras_tensorflow",
   "language": "python",
   "name": "keras_tensorflow"
  },
  "language_info": {
   "codemirror_mode": {
    "name": "ipython",
    "version": 3
   },
   "file_extension": ".py",
   "mimetype": "text/x-python",
   "name": "python",
   "nbconvert_exporter": "python",
   "pygments_lexer": "ipython3",
   "version": "3.7.4"
  }
 },
 "nbformat": 4,
 "nbformat_minor": 4
}
