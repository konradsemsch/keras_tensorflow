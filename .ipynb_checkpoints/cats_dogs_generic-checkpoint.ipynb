{
 "cells": [
  {
   "cell_type": "code",
   "execution_count": 25,
   "metadata": {},
   "outputs": [],
   "source": [
    "import os\n",
    "import shutil "
   ]
  },
  {
   "cell_type": "code",
   "execution_count": 29,
   "metadata": {},
   "outputs": [
    {
     "name": "stdout",
     "output_type": "stream",
     "text": [
      "/Users/konrad/DS_ML/Python/SpecificEnv/keras_tensorflow\n",
      "/Users/konrad/DS_ML/Python/SpecificEnv/keras_tensorflow/dogs-vs-cats\n"
     ]
    }
   ],
   "source": [
    "path_main = os.getcwd()\n",
    "print(path_main)\n",
    "\n",
    "path_download = path_main + '/dogs-vs-cats'\n",
    "print(path_download)"
   ]
  },
  {
   "cell_type": "code",
   "execution_count": 9,
   "metadata": {},
   "outputs": [
    {
     "name": "stdout",
     "output_type": "stream",
     "text": [
      "/Users/konrad/DS_ML/Python/SpecificEnv/keras_tensorflow/dogs-vs-cats-small\n"
     ]
    }
   ],
   "source": [
    "# Creating the main directory\n",
    "base_dir = path + '/dogs-vs-cats-small'\n",
    "print(base_dir)"
   ]
  },
  {
   "cell_type": "code",
   "execution_count": 10,
   "metadata": {},
   "outputs": [],
   "source": [
    "os.mkdir(base_dir)"
   ]
  },
  {
   "cell_type": "code",
   "execution_count": 11,
   "metadata": {},
   "outputs": [],
   "source": [
    "# Creating train/ valid/ test subdirectories\n",
    "train_dir = base_dir + '/train'\n",
    "valid_dir = base_dir + '/valid'\n",
    "test_dir = base_dir + '/test'"
   ]
  },
  {
   "cell_type": "code",
   "execution_count": 12,
   "metadata": {},
   "outputs": [],
   "source": [
    "os.mkdir(train_dir)\n",
    "os.mkdir(valid_dir)\n",
    "os.mkdir(test_dir)"
   ]
  },
  {
   "cell_type": "code",
   "execution_count": 42,
   "metadata": {},
   "outputs": [],
   "source": [
    "# Creating dogs/ cats subdirectories\n",
    "train_dogs_dir = train_dir + '/dogs'\n",
    "train_cats_dir = train_dir + '/cats'\n",
    "\n",
    "valid_dogs_dir = valid_dir + '/dogs'\n",
    "valid_cats_dir = valid_dir + '/cats'\n",
    "\n",
    "test_dogs_dir = test_dir + '/dogs'\n",
    "test_cats_dir = test_dir + '/cats'"
   ]
  },
  {
   "cell_type": "code",
   "execution_count": 14,
   "metadata": {},
   "outputs": [],
   "source": [
    "os.mkdir(train_dogs_dir)\n",
    "os.mkdir(train_cats_dir)\n",
    "os.mkdir(valid_dogs_dir)\n",
    "os.mkdir(valid_cats_dir)\n",
    "os.mkdir(test_dogs_dir)\n",
    "os.mkdir(test_cats_dir)"
   ]
  },
  {
   "cell_type": "code",
   "execution_count": 108,
   "metadata": {},
   "outputs": [],
   "source": [
    "# Training\n",
    "# Dogs\n",
    "animal = 'dog'\n",
    "folder_current = 'train'\n",
    "folder_target = train_dogs_dir\n",
    "\n",
    "files = [f'/{animal}.' + str(x) + '.jpg' for x in range(1, 1000)]\n",
    "for i in files:\n",
    "    full_file_name = path_download + f'/{folder_current}' + i\n",
    "    shutil.copy(full_file_name, folder_target)\n",
    "    \n",
    "# Cats\n",
    "animal = 'cat'\n",
    "folder_current = 'train'\n",
    "folder_target = train_cats_dir\n",
    "\n",
    "files = [f'/{animal}.' + str(x) + '.jpg' for x in range(1, 1000)]\n",
    "for i in files:\n",
    "    full_file_name = path_download + f'/{folder_current}' + i\n",
    "    shutil.copy(full_file_name, folder_target)"
   ]
  },
  {
   "cell_type": "code",
   "execution_count": 110,
   "metadata": {},
   "outputs": [],
   "source": [
    "# Valid\n",
    "# Dogs\n",
    "animal = 'dog'\n",
    "folder_current = 'train'\n",
    "folder_target = valid_dogs_dir\n",
    "\n",
    "files = [f'/{animal}.' + str(x) + '.jpg' for x in range(1001, 1500)]\n",
    "for i in files:\n",
    "    full_file_name = path_download + f'/{folder_current}' + i\n",
    "    shutil.copy(full_file_name, folder_target)\n",
    "    \n",
    "# Cats\n",
    "animal = 'cat'\n",
    "folder_current = 'train'\n",
    "folder_target = valid_cats_dir\n",
    "\n",
    "files = [f'/{animal}.' + str(x) + '.jpg' for x in range(1001, 1500)]\n",
    "for i in files:\n",
    "    full_file_name = path_download + f'/{folder_current}' + i\n",
    "    shutil.copy(full_file_name, folder_target)"
   ]
  },
  {
   "cell_type": "code",
   "execution_count": 111,
   "metadata": {},
   "outputs": [],
   "source": [
    "# Test\n",
    "# Dogs\n",
    "animal = 'dog'\n",
    "folder_current = 'train'\n",
    "folder_target = test_dogs_dir\n",
    "\n",
    "files = [f'/{animal}.' + str(x) + '.jpg' for x in range(1001, 1500)]\n",
    "for i in files:\n",
    "    full_file_name = path_download + f'/{folder_current}' + i\n",
    "    shutil.copy(full_file_name, folder_target)\n",
    "    \n",
    "# Cats\n",
    "animal = 'cat'\n",
    "folder_current = 'train'\n",
    "folder_target = test_cats_dir\n",
    "\n",
    "files = [f'/{animal}.' + str(x) + '.jpg' for x in range(1001, 1500)]\n",
    "for i in files:\n",
    "    full_file_name = path_download + f'/{folder_current}' + i\n",
    "    shutil.copy(full_file_name, folder_target)"
   ]
  },
  {
   "cell_type": "code",
   "execution_count": null,
   "metadata": {},
   "outputs": [],
   "source": []
  }
 ],
 "metadata": {
  "kernelspec": {
   "display_name": "keras_tensorflow",
   "language": "python",
   "name": "keras_tensorflow"
  },
  "language_info": {
   "codemirror_mode": {
    "name": "ipython",
    "version": 3
   },
   "file_extension": ".py",
   "mimetype": "text/x-python",
   "name": "python",
   "nbconvert_exporter": "python",
   "pygments_lexer": "ipython3",
   "version": "3.7.4"
  }
 },
 "nbformat": 4,
 "nbformat_minor": 4
}
